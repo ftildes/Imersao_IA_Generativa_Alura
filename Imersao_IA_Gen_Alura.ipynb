{
  "nbformat": 4,
  "nbformat_minor": 0,
  "metadata": {
    "colab": {
      "provenance": [],
      "authorship_tag": "ABX9TyPbbWyFaFPW2sZUDQa9jnGq",
      "include_colab_link": true
    },
    "kernelspec": {
      "name": "python3",
      "display_name": "Python 3"
    },
    "language_info": {
      "name": "python"
    }
  },
  "cells": [
    {
      "cell_type": "markdown",
      "metadata": {
        "id": "view-in-github",
        "colab_type": "text"
      },
      "source": [
        "<a href=\"https://colab.research.google.com/github/ftildes/Imersao_IA_Generativa_Alura/blob/main/Imersao_IA_Gen_Alura.ipynb\" target=\"_parent\"><img src=\"https://colab.research.google.com/assets/colab-badge.svg\" alt=\"Open In Colab\"/></a>"
      ]
    },
    {
      "cell_type": "code",
      "execution_count": null,
      "metadata": {
        "id": "YdmtzykghnXW"
      },
      "outputs": [],
      "source": [
        "# Import the Python SDK\n",
        "import google.generativeai as genai\n",
        "# Used to securely store your API key\n",
        "from google.colab import userdata\n",
        "\n",
        "API_KEY=userdata.get('secretName')\n",
        "genai.configure(api_key=API_KEY)\n",
        "\n",
        "#Before you can make any API calls, you need to initialize the Generative Model.\n",
        "\n",
        "model = genai.GenerativeModel('gemini-pro')\n",
        "\n",
        "# Configurando o modelo\n",
        "generation_config = {\n",
        "   \"candidate_count\":1,\n",
        "   \"temperature\":0.5\n",
        "}\n",
        "\n",
        "safety_settings = {\n",
        "   \"harassment\":\"block_none\",\n",
        "   \"hate\":\"block_none\",\n",
        "   \"sexual\":\"block_none\",\n",
        "   \"dangerous\":\"block_none\"\n",
        "}\n",
        "\n",
        "model = genai.GenerativeModel(model_name=\"gemini-1.0-pro\",\n",
        "generation_config=generation_config,\n",
        "safety_settings=safety_settings)\n",
        "\n",
        "Inicializando um chat\n",
        "chat = model.start_chat(history=[])\n",
        "\n",
        "prompt = input(\"Esperando prompt:\")\n",
        "while prompt != \"fim\":\n",
        "   response=chat.send_message(prompt)\n",
        "   print(\"Resposta: \", response.text, \"\\n\")\n",
        "   prompt = input(\"Esperando prompt:\")\n",
        ""
      ]
    }
  ]
}